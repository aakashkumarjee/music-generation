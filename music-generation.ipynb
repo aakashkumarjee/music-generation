{
 "cells": [
  {
   "cell_type": "code",
   "execution_count": 50,
   "metadata": {},
   "outputs": [],
   "source": [
    "from music21 import *\n",
    "import keras\n",
    "from keras import backend as k\n",
    "import glob\n",
    "import numpy\n",
    "from keras.utils import np_utils \n",
    "from keras.models import Sequential\n",
    "from keras.layers import Dense, Activation,Dropout,LSTM\n",
    "from keras.optimizers import RMSprop\n",
    "\n"
   ]
  },
  {
   "cell_type": "code",
   "execution_count": 36,
   "metadata": {},
   "outputs": [
    {
     "name": "stdout",
     "output_type": "stream",
     "text": [
      "Collecting librosa\n",
      "  Downloading librosa-0.8.0.tar.gz (183 kB)\n",
      "Collecting audioread>=2.0.0\n",
      "  Downloading audioread-2.1.9.tar.gz (377 kB)\n",
      "Requirement already satisfied: numpy>=1.15.0 in c:\\programdata\\anaconda3\\lib\\site-packages (from librosa) (1.18.1)\n",
      "Requirement already satisfied: scipy>=1.0.0 in c:\\programdata\\anaconda3\\lib\\site-packages (from librosa) (1.4.1)\n",
      "Requirement already satisfied: scikit-learn!=0.19.0,>=0.14.0 in c:\\programdata\\anaconda3\\lib\\site-packages (from librosa) (0.22.1)\n",
      "Requirement already satisfied: joblib>=0.14 in c:\\programdata\\anaconda3\\lib\\site-packages (from librosa) (0.14.1)\n",
      "Requirement already satisfied: decorator>=3.0.0 in c:\\programdata\\anaconda3\\lib\\site-packages (from librosa) (4.4.1)\n",
      "Collecting resampy>=0.2.2\n",
      "  Downloading resampy-0.2.2.tar.gz (323 kB)\n",
      "Requirement already satisfied: numba>=0.43.0 in c:\\programdata\\anaconda3\\lib\\site-packages (from librosa) (0.48.0)\n",
      "Collecting soundfile>=0.9.0\n",
      "  Downloading SoundFile-0.10.3.post1-py2.py3.cp26.cp27.cp32.cp33.cp34.cp35.cp36.pp27.pp32.pp33-none-win_amd64.whl (689 kB)\n",
      "Collecting pooch>=1.0\n",
      "  Downloading pooch-1.3.0-py3-none-any.whl (51 kB)\n",
      "Requirement already satisfied: six>=1.3 in c:\\programdata\\anaconda3\\lib\\site-packages (from resampy>=0.2.2->librosa) (1.14.0)\n",
      "Requirement already satisfied: llvmlite<0.32.0,>=0.31.0dev0 in c:\\programdata\\anaconda3\\lib\\site-packages (from numba>=0.43.0->librosa) (0.31.0)\n",
      "Requirement already satisfied: setuptools in c:\\programdata\\anaconda3\\lib\\site-packages (from numba>=0.43.0->librosa) (45.2.0.post20200210)\n",
      "Requirement already satisfied: cffi>=1.0 in c:\\programdata\\anaconda3\\lib\\site-packages (from soundfile>=0.9.0->librosa) (1.14.0)\n",
      "Requirement already satisfied: packaging in c:\\programdata\\anaconda3\\lib\\site-packages (from pooch>=1.0->librosa) (20.1)\n",
      "Requirement already satisfied: requests in c:\\programdata\\anaconda3\\lib\\site-packages (from pooch>=1.0->librosa) (2.22.0)\n",
      "Collecting appdirs\n",
      "  Downloading appdirs-1.4.4-py2.py3-none-any.whl (9.6 kB)\n",
      "Requirement already satisfied: pycparser in c:\\programdata\\anaconda3\\lib\\site-packages (from cffi>=1.0->soundfile>=0.9.0->librosa) (2.19)\n",
      "Requirement already satisfied: pyparsing>=2.0.2 in c:\\programdata\\anaconda3\\lib\\site-packages (from packaging->pooch>=1.0->librosa) (2.4.6)\n",
      "Requirement already satisfied: idna<2.9,>=2.5 in c:\\programdata\\anaconda3\\lib\\site-packages (from requests->pooch>=1.0->librosa) (2.8)\n",
      "Requirement already satisfied: urllib3!=1.25.0,!=1.25.1,<1.26,>=1.21.1 in c:\\programdata\\anaconda3\\lib\\site-packages (from requests->pooch>=1.0->librosa) (1.25.8)\n",
      "Requirement already satisfied: chardet<3.1.0,>=3.0.2 in c:\\programdata\\anaconda3\\lib\\site-packages (from requests->pooch>=1.0->librosa) (3.0.4)\n",
      "Requirement already satisfied: certifi>=2017.4.17 in c:\\programdata\\anaconda3\\lib\\site-packages (from requests->pooch>=1.0->librosa) (2019.11.28)\n",
      "Building wheels for collected packages: librosa, audioread, resampy\n",
      "  Building wheel for librosa (setup.py): started\n",
      "  Building wheel for librosa (setup.py): finished with status 'done'\n",
      "  Created wheel for librosa: filename=librosa-0.8.0-py3-none-any.whl size=201381 sha256=b3242d17782cf9bcc860a0dd4969da2e21d168f407f9e75e36c360cc5345f8e0\n",
      "  Stored in directory: c:\\users\\aakash\\appdata\\local\\pip\\cache\\wheels\\de\\1e\\aa\\d91797ae7e1ce11853ee100bee9d1781ae9d750e7458c95afb\n",
      "  Building wheel for audioread (setup.py): started\n",
      "  Building wheel for audioread (setup.py): finished with status 'done'\n",
      "  Created wheel for audioread: filename=audioread-2.1.9-py3-none-any.whl size=23145 sha256=50a58d54f86894e2675e37c7bd2016befaa0acd8e6ec5ad58b986f764a99c3bd\n",
      "  Stored in directory: c:\\users\\aakash\\appdata\\local\\pip\\cache\\wheels\\ba\\7b\\eb\\213741ccc0678f63e346ab8dff10495995ca3f426af87b8d88\n",
      "  Building wheel for resampy (setup.py): started\n",
      "  Building wheel for resampy (setup.py): finished with status 'done'\n",
      "  Created wheel for resampy: filename=resampy-0.2.2-py3-none-any.whl size=320723 sha256=3d6aa49baf2bae755464ff05c1912f7c1f6a35b8a666c19c38cc32297c488e92\n",
      "  Stored in directory: c:\\users\\aakash\\appdata\\local\\pip\\cache\\wheels\\a0\\18\\0a\\8ad18a597d8333a142c9789338a96a6208f1198d290ece356c\n",
      "Successfully built librosa audioread resampy\n",
      "Installing collected packages: audioread, resampy, soundfile, appdirs, pooch, librosa\n",
      "Successfully installed appdirs-1.4.4 audioread-2.1.9 librosa-0.8.0 pooch-1.3.0 resampy-0.2.2 soundfile-0.10.3.post1\n"
     ]
    }
   ],
   "source": [
    "!pip install librosa\n",
    "import librosa"
   ]
  },
  {
   "cell_type": "code",
   "execution_count": 47,
   "metadata": {},
   "outputs": [
    {
     "name": "stdout",
     "output_type": "stream",
     "text": [
      "Collecting music21\n",
      "  Downloading music21-6.3.0.tar.gz (19.2 MB)\n",
      "Requirement already satisfied, skipping upgrade: chardet in c:\\programdata\\anaconda3\\lib\\site-packages (from music21) (3.0.4)\n",
      "Requirement already satisfied, skipping upgrade: joblib in c:\\programdata\\anaconda3\\lib\\site-packages (from music21) (0.14.1)\n",
      "Requirement already satisfied, skipping upgrade: more-itertools in c:\\programdata\\anaconda3\\lib\\site-packages (from music21) (8.2.0)\n",
      "Requirement already satisfied, skipping upgrade: webcolors in c:\\programdata\\anaconda3\\lib\\site-packages (from music21) (1.11.1)\n",
      "Building wheels for collected packages: music21\n",
      "  Building wheel for music21 (setup.py): started\n",
      "  Building wheel for music21 (setup.py): finished with status 'done'\n",
      "  Created wheel for music21: filename=music21-6.3.0-py3-none-any.whl size=21888026 sha256=8d41bd3c4e928c965f666b25e3ced1d60b31175cda5c1a08c22825f390e449ea\n",
      "  Stored in directory: c:\\users\\aakash\\appdata\\local\\pip\\cache\\wheels\\6a\\d0\\ae\\11a9d9a4052ed2094afc14daf1f5a39569890dedb95be40612\n",
      "Successfully built music21\n",
      "Installing collected packages: music21\n",
      "  Attempting uninstall: music21\n",
      "    Found existing installation: music21 6.1.0\n",
      "    Uninstalling music21-6.1.0:\n",
      "      Successfully uninstalled music21-6.1.0\n",
      "Successfully installed music21-6.3.0\n"
     ]
    }
   ],
   "source": [
    "!pip install --upgrade music21\n",
    "import music21"
   ]
  },
  {
   "cell_type": "code",
   "execution_count": 52,
   "metadata": {},
   "outputs": [
    {
     "name": "stdout",
     "output_type": "stream",
     "text": [
      "processing song no:  0 midi_songs\\0fithos.mid\n",
      "processing song no:  1 midi_songs\\8.mid\n",
      "processing song no:  2 midi_songs\\ahead_on_our_way_piano.mid\n",
      "processing song no:  3 midi_songs\\AT.mid\n",
      "processing song no:  4 midi_songs\\balamb.mid\n",
      "processing song no:  5 midi_songs\\bcm.mid\n",
      "processing song no:  6 midi_songs\\BlueStone_LastDungeon.mid\n",
      "processing song no:  7 midi_songs\\braska.mid\n",
      "processing song no:  8 midi_songs\\caitsith.mid\n",
      "processing song no:  9 midi_songs\\Cids.mid\n",
      "processing song no:  10 midi_songs\\cosmo.mid\n",
      "processing song no:  11 midi_songs\\costadsol.mid\n",
      "processing song no:  12 midi_songs\\dayafter.mid\n",
      "processing song no:  13 midi_songs\\decisive.mid\n",
      "processing song no:  14 midi_songs\\dontbeafraid.mid\n",
      "processing song no:  15 midi_songs\\DOS.mid\n",
      "processing song no:  16 midi_songs\\electric_de_chocobo.mid\n",
      "processing song no:  17 midi_songs\\Eternal_Harvest.mid\n",
      "processing song no:  18 midi_songs\\EyesOnMePiano.mid\n",
      "processing song no:  19 midi_songs\\ff11_awakening_piano.mid\n",
      "processing song no:  20 midi_songs\\ff1battp.mid\n",
      "processing song no:  21 midi_songs\\FF3_Battle_(Piano).mid\n",
      "processing song no:  22 midi_songs\\FF3_Third_Phase_Final_(Piano).mid\n",
      "processing song no:  23 midi_songs\\ff4-airship.mid\n",
      "processing song no:  24 midi_songs\\Ff4-BattleLust.mid\n",
      "processing song no:  25 midi_songs\\ff4-fight1.mid\n",
      "processing song no:  26 midi_songs\\ff4-town.mid\n",
      "processing song no:  27 midi_songs\\FF4.mid\n",
      "processing song no:  28 midi_songs\\ff4pclov.mid\n",
      "processing song no:  29 midi_songs\\ff4_piano_collections-main_theme.mid\n",
      "processing song no:  30 midi_songs\\FF6epitaph_piano.mid\n",
      "processing song no:  31 midi_songs\\ff6shap.mid\n",
      "processing song no:  32 midi_songs\\Ff7-Cinco.mid\n",
      "processing song no:  33 midi_songs\\Ff7-Jenova_Absolute.mid\n",
      "processing song no:  34 midi_songs\\ff7-mainmidi.mid\n",
      "processing song no:  35 midi_songs\\Ff7-One_Winged.mid\n",
      "processing song no:  36 midi_songs\\ff7themep.mid\n",
      "processing song no:  37 midi_songs\\ff8-lfp.mid\n",
      "processing song no:  38 midi_songs\\FF8_Shuffle_or_boogie_pc.mid\n",
      "processing song no:  39 midi_songs\\FFIII_Edgar_And_Sabin_Piano.mid\n",
      "processing song no:  40 midi_songs\\FFIXQuMarshP.mid\n",
      "processing song no:  41 midi_songs\\FFIX_Piano.mid\n",
      "processing song no:  42 midi_songs\\FFVII_BATTLE.mid\n",
      "processing song no:  43 midi_songs\\FFX_-_Ending_Theme_(Piano_Version)_-_by_Angel_FF.mid\n",
      "processing song no:  44 midi_songs\\Fiend_Battle_(Piano).mid\n",
      "processing song no:  45 midi_songs\\Fierce_Battle_(Piano).mid\n",
      "processing song no:  46 midi_songs\\figaro.mid\n",
      "processing song no:  47 midi_songs\\Finalfantasy5gilgameshp.mid\n",
      "processing song no:  48 midi_songs\\Finalfantasy6fanfarecomplete.mid\n",
      "processing song no:  49 midi_songs\\Final_Fantasy_7_-_Judgement_Day_Piano.mid\n",
      "processing song no:  50 midi_songs\\Final_Fantasy_Matouyas_Cave_Piano.mid\n",
      "processing song no:  51 midi_songs\\fortresscondor.mid\n",
      "processing song no:  52 midi_songs\\Fyw_piano.mid\n",
      "processing song no:  53 midi_songs\\gerudo.mid\n",
      "processing song no:  54 midi_songs\\goldsaucer.mid\n",
      "processing song no:  55 midi_songs\\Gold_Silver_Rival_Battle.mid\n",
      "processing song no:  56 midi_songs\\great_war.mid\n",
      "processing song no:  57 midi_songs\\HighwindTakestotheSkies.mid\n",
      "processing song no:  58 midi_songs\\In_Zanarkand.mid\n",
      "processing song no:  59 midi_songs\\JENOVA.mid\n",
      "processing song no:  60 midi_songs\\Kingdom_Hearts_Dearly_Beloved.mid\n",
      "processing song no:  61 midi_songs\\Kingdom_Hearts_Traverse_Town.mid\n",
      "processing song no:  62 midi_songs\\Life_Stream.mid\n",
      "processing song no:  63 midi_songs\\lurk_in_dark.mid\n",
      "processing song no:  64 midi_songs\\mining.mid\n",
      "processing song no:  65 midi_songs\\Oppressed.mid\n",
      "processing song no:  66 midi_songs\\OTD5YA.mid\n",
      "processing song no:  67 midi_songs\\path_of_repentance.mid\n",
      "processing song no:  68 midi_songs\\pkelite4.mid\n",
      "processing song no:  69 midi_songs\\Rachel_Piano_tempofix.mid\n",
      "processing song no:  70 midi_songs\\redwings.mid\n",
      "processing song no:  71 midi_songs\\relmstheme-piano.mid\n",
      "processing song no:  72 midi_songs\\roseofmay-piano.mid\n",
      "processing song no:  73 midi_songs\\rufus.mid\n",
      "processing song no:  74 midi_songs\\Rydia_pc.mid\n",
      "processing song no:  75 midi_songs\\sandy.mid\n",
      "processing song no:  76 midi_songs\\sera_.mid\n",
      "processing song no:  77 midi_songs\\sobf.mid\n",
      "processing song no:  78 midi_songs\\Still_Alive-1.mid\n",
      "processing song no:  79 midi_songs\\Suteki_Da_Ne_(Piano_Version).mid\n",
      "processing song no:  80 midi_songs\\thenightmarebegins.mid\n",
      "processing song no:  81 midi_songs\\thoughts.mid\n",
      "processing song no:  82 midi_songs\\tifap.mid\n",
      "processing song no:  83 midi_songs\\tpirtsd-piano.mid\n",
      "processing song no:  84 midi_songs\\traitor.mid\n",
      "processing song no:  85 midi_songs\\ultimafro.mid\n",
      "processing song no:  86 midi_songs\\ultros.mid\n",
      "processing song no:  87 midi_songs\\VincentPiano.mid\n",
      "processing song no:  88 midi_songs\\ViviinAlexandria.mid\n",
      "processing song no:  89 midi_songs\\waltz_de_choco.mid\n",
      "processing song no:  90 midi_songs\\Zelda_Overworld.mid\n",
      "processing song no:  91 midi_songs\\z_aeristhemepiano.mid\n"
     ]
    }
   ],
   "source": [
    "notes = []\n",
    "counter = 0\n",
    "for file in glob.glob(\"midi_songs/*.mid\"):\n",
    "    print('processing song no: ',counter, file)\n",
    "    counter = counter + 1\n",
    "    file.encode('utf-8').strip()\n",
    "    try:\n",
    "        midi = converter.parse(file)\n",
    "    except:\n",
    "        continue\n",
    "    notes_to_parse = None\n",
    "    parts = instrument.partitionByInstrument(midi)\n",
    "    if parts: # file has instrument parts\n",
    "        notes_to_parse = parts.parts[0].recurse()\n",
    "    else: # file has notes in a flat structure\n",
    "        notes_to_parse = midi.flat.notes\n",
    "    for element in notes_to_parse:\n",
    "        if isinstance(element, note.Note):\n",
    "            notes.append(str(element.pitch))\n",
    "        elif isinstance(element, chord.Chord):\n",
    "            notes.append('.'.join(str(n) for n in element.normalOrder))\n"
   ]
  },
  {
   "cell_type": "code",
   "execution_count": 53,
   "metadata": {},
   "outputs": [],
   "source": [
    "sequence_length = 100\n",
    "n_vocab = len(set(notes))\n",
    "\n",
    "# get all pitch names\n",
    "pitchnames = sorted(set(item for item in notes))\n",
    "# create a dictionary to map pitches to integers\n",
    "note_to_int = dict((note, number) for number, note in enumerate(pitchnames))\n",
    "network_input = []\n",
    "network_output = []\n",
    "# create input sequences and the corresponding outputs\n",
    "for i in range(0, len(notes) - sequence_length, 1):\n",
    "    sequence_in = notes[i:i + sequence_length]\n",
    "    sequence_out = notes[i + sequence_length]\n",
    "    network_input.append([note_to_int[char] for char in sequence_in])\n",
    "    network_output.append(note_to_int[sequence_out])\n",
    "n_patterns = len(network_input)\n",
    "# reshape the input into a format compatible with LSTM layers\n",
    "network_input = numpy.reshape(network_input, (n_patterns, sequence_length, 1))\n",
    "# normalize input\n",
    "network_input = network_input / float(n_vocab) \n",
    "network_output = np_utils.to_categorical(network_output)"
   ]
  },
  {
   "cell_type": "code",
   "execution_count": 54,
   "metadata": {},
   "outputs": [],
   "source": [
    "from tensorflow.keras import Sequential\n",
    "from tensorflow.keras.layers import Dense, Dropout, LSTM, Activation"
   ]
  },
  {
   "cell_type": "code",
   "execution_count": 55,
   "metadata": {},
   "outputs": [
    {
     "name": "stdout",
     "output_type": "stream",
     "text": [
      "100 1\n",
      "5369\n"
     ]
    }
   ],
   "source": [
    "print(network_input.shape[1], network_input.shape[2])\n",
    "print(len(network_input))"
   ]
  },
  {
   "cell_type": "code",
   "execution_count": 56,
   "metadata": {},
   "outputs": [],
   "source": [
    "model = Sequential()\n",
    "model.add(LSTM(\n",
    "        256,\n",
    "        input_shape=(network_input.shape[1], network_input.shape[2]),\n",
    "        return_sequences=True\n",
    "    ))\n",
    "model.add(Dropout(0.3))\n",
    "model.add(LSTM(512, return_sequences=True))\n",
    "model.add(Dropout(0.3))\n",
    "model.add(LSTM(256))\n",
    "model.add(Dense(256))\n",
    "model.add(Dropout(0.3))\n",
    "model.add(Dense(n_vocab))\n",
    "model.add(Activation('softmax'))\n",
    "model.compile(loss='categorical_crossentropy', optimizer='rmsprop')\n",
    "\n",
    "\n",
    "\n"
   ]
  },
  {
   "cell_type": "code",
   "execution_count": 57,
   "metadata": {},
   "outputs": [
    {
     "name": "stdout",
     "output_type": "stream",
     "text": [
      "Model: \"sequential_8\"\n",
      "_________________________________________________________________\n",
      "Layer (type)                 Output Shape              Param #   \n",
      "=================================================================\n",
      "lstm_21 (LSTM)               (None, 100, 256)          264192    \n",
      "_________________________________________________________________\n",
      "dropout_21 (Dropout)         (None, 100, 256)          0         \n",
      "_________________________________________________________________\n",
      "lstm_22 (LSTM)               (None, 100, 512)          1574912   \n",
      "_________________________________________________________________\n",
      "dropout_22 (Dropout)         (None, 100, 512)          0         \n",
      "_________________________________________________________________\n",
      "lstm_23 (LSTM)               (None, 256)               787456    \n",
      "_________________________________________________________________\n",
      "dense_14 (Dense)             (None, 256)               65792     \n",
      "_________________________________________________________________\n",
      "dropout_23 (Dropout)         (None, 256)               0         \n",
      "_________________________________________________________________\n",
      "dense_15 (Dense)             (None, 158)               40606     \n",
      "_________________________________________________________________\n",
      "activation_6 (Activation)    (None, 158)               0         \n",
      "=================================================================\n",
      "Total params: 2,732,958\n",
      "Trainable params: 2,732,958\n",
      "Non-trainable params: 0\n",
      "_________________________________________________________________\n"
     ]
    }
   ],
   "source": [
    "model.summary()"
   ]
  },
  {
   "cell_type": "code",
   "execution_count": 60,
   "metadata": {},
   "outputs": [
    {
     "name": "stdout",
     "output_type": "stream",
     "text": [
      "Epoch 1/50\n",
      "11/11 [==============================] - 130s 12s/step - loss: 4.6819\n",
      "Epoch 2/50\n",
      "11/11 [==============================] - 167s 15s/step - loss: 4.4318\n",
      "Epoch 3/50\n",
      "11/11 [==============================] - 105s 10s/step - loss: 4.4152\n",
      "Epoch 4/50\n",
      "11/11 [==============================] - 120s 11s/step - loss: 4.4039\n",
      "Epoch 5/50\n",
      "11/11 [==============================] - 138s 13s/step - loss: 4.3985\n",
      "Epoch 6/50\n",
      "11/11 [==============================] - 97s 9s/step - loss: 4.3881\n",
      "Epoch 7/50\n",
      "11/11 [==============================] - 79s 7s/step - loss: 4.3877\n",
      "Epoch 8/50\n",
      "11/11 [==============================] - 83s 8s/step - loss: 4.3763\n",
      "Epoch 9/50\n",
      "11/11 [==============================] - 77s 7s/step - loss: 4.3814\n",
      "Epoch 10/50\n",
      "11/11 [==============================] - 80s 7s/step - loss: 4.3688\n",
      "Epoch 11/50\n",
      "11/11 [==============================] - 81s 7s/step - loss: 4.3741\n",
      "Epoch 12/50\n",
      "11/11 [==============================] - 84s 8s/step - loss: 4.3629\n",
      "Epoch 13/50\n",
      "11/11 [==============================] - 82s 7s/step - loss: 4.4611\n",
      "Epoch 14/50\n",
      "11/11 [==============================] - 79s 7s/step - loss: 4.3947\n",
      "Epoch 15/50\n",
      "11/11 [==============================] - 80s 7s/step - loss: 4.3864\n",
      "Epoch 16/50\n",
      "11/11 [==============================] - 81s 7s/step - loss: 4.3664\n",
      "Epoch 17/50\n",
      "11/11 [==============================] - 81s 7s/step - loss: 4.5045\n",
      "Epoch 18/50\n",
      "11/11 [==============================] - 84s 8s/step - loss: 4.3527\n",
      "Epoch 19/50\n",
      "11/11 [==============================] - 100s 9s/step - loss: 4.3253\n",
      "Epoch 20/50\n",
      "11/11 [==============================] - 83s 8s/step - loss: 4.3462\n",
      "Epoch 21/50\n",
      "11/11 [==============================] - 81s 7s/step - loss: 4.2743\n",
      "Epoch 22/50\n",
      "11/11 [==============================] - 93s 8s/step - loss: 4.2711\n",
      "Epoch 23/50\n",
      "11/11 [==============================] - 83s 8s/step - loss: 4.2569\n",
      "Epoch 24/50\n",
      "11/11 [==============================] - 2238s 203s/step - loss: 4.2426\n",
      "Epoch 25/50\n",
      "11/11 [==============================] - 108s 10s/step - loss: 4.2067\n",
      "Epoch 26/50\n",
      "11/11 [==============================] - 148s 13s/step - loss: 4.1978\n",
      "Epoch 27/50\n",
      "11/11 [==============================] - 182s 17s/step - loss: 4.1536\n",
      "Epoch 28/50\n",
      "11/11 [==============================] - 153s 14s/step - loss: 4.1713\n",
      "Epoch 29/50\n",
      "11/11 [==============================] - 152s 14s/step - loss: 4.1080\n",
      "Epoch 30/50\n",
      "11/11 [==============================] - 173s 16s/step - loss: 4.1101\n",
      "Epoch 31/50\n",
      "11/11 [==============================] - 152s 14s/step - loss: 4.0511\n",
      "Epoch 32/50\n",
      "11/11 [==============================] - 135s 12s/step - loss: 4.0693\n",
      "Epoch 33/50\n",
      "11/11 [==============================] - 106s 10s/step - loss: 4.0112\n",
      "Epoch 34/50\n",
      "11/11 [==============================] - 122s 11s/step - loss: 3.9671\n",
      "Epoch 35/50\n",
      "11/11 [==============================] - 88s 8s/step - loss: 3.9015\n",
      "Epoch 36/50\n",
      "11/11 [==============================] - 99s 9s/step - loss: 4.1460\n",
      "Epoch 37/50\n",
      "11/11 [==============================] - 89s 8s/step - loss: 3.9094\n",
      "Epoch 38/50\n",
      "11/11 [==============================] - 78s 7s/step - loss: 3.9339\n",
      "Epoch 39/50\n",
      "11/11 [==============================] - 966s 88s/step - loss: 3.8188\n",
      "Epoch 40/50\n",
      "11/11 [==============================] - 74s 7s/step - loss: 3.8210\n",
      "Epoch 41/50\n",
      "11/11 [==============================] - 74s 7s/step - loss: 3.7789\n",
      "Epoch 42/50\n",
      "11/11 [==============================] - 78s 7s/step - loss: 3.8331\n",
      "Epoch 43/50\n",
      "11/11 [==============================] - 82s 7s/step - loss: 3.5988\n",
      "Epoch 44/50\n",
      "11/11 [==============================] - 80s 7s/step - loss: 3.6860\n",
      "Epoch 45/50\n",
      "11/11 [==============================] - 79s 7s/step - loss: 3.5129\n",
      "Epoch 46/50\n",
      "11/11 [==============================] - 81s 7s/step - loss: 3.4135\n",
      "Epoch 47/50\n",
      "11/11 [==============================] - 81s 7s/step - loss: 3.4774\n",
      "Epoch 48/50\n",
      "11/11 [==============================] - 81s 7s/step - loss: 3.4408\n",
      "Epoch 49/50\n",
      "11/11 [==============================] - 82s 7s/step - loss: 3.2388\n",
      "Epoch 50/50\n",
      "11/11 [==============================] - 83s 8s/step - loss: 3.2039\n"
     ]
    },
    {
     "data": {
      "text/plain": [
       "<tensorflow.python.keras.callbacks.History at 0x197434f8888>"
      ]
     },
     "execution_count": 60,
     "metadata": {},
     "output_type": "execute_result"
    }
   ],
   "source": [
    "\n",
    "model.fit(network_input, network_output, epochs=50, batch_size=512)"
   ]
  },
  {
   "cell_type": "code",
   "execution_count": 64,
   "metadata": {},
   "outputs": [],
   "source": [
    "model_json = model.to_json()\n",
    "with open(\"./model.json\", \"w\") as json_file:\n",
    "    json_file.write(model_json)\n",
    "# serialize weights to HDF5\n",
    "model.save_weights(\"model.h5\")"
   ]
  },
  {
   "cell_type": "code",
   "execution_count": null,
   "metadata": {},
   "outputs": [],
   "source": []
  },
  {
   "cell_type": "code",
   "execution_count": 65,
   "metadata": {},
   "outputs": [],
   "source": [
    "# now we will generate the music\n",
    "# model = Sequential()\n",
    "# model.add(LSTM(\n",
    "#     512,\n",
    "#     input_shape=(network_input.shape[1], network_input.shape[2]),\n",
    "#     return_sequences=True\n",
    "# ))\n",
    "# model.add(Dropout(0.3))\n",
    "# model.add(LSTM(512, return_sequences=True))\n",
    "# model.add(Dropout(0.3))\n",
    "# model.add(LSTM(512))\n",
    "# model.add(Dense(256))\n",
    "# model.add(Dropout(0.3))\n",
    "# model.add(Dense(n_vocab))\n",
    "# model.add(Activation('softmax'))\n",
    "# model.compile(loss='categorical_crossentropy', optimizer='rmsprop')\n",
    "# # Load the weights to each node\n",
    "# model.load_weights('weights-improvement-99-0.2833-bigger.hdf5')\n",
    "\n",
    "\n",
    "model = Sequential()\n",
    "model.add(LSTM(\n",
    "        256,\n",
    "        input_shape=(network_input.shape[1], network_input.shape[2]),\n",
    "        return_sequences=True\n",
    "    ))\n",
    "model.add(Dropout(0.3))\n",
    "model.add(LSTM(512, return_sequences=True))\n",
    "model.add(Dropout(0.3))\n",
    "model.add(LSTM(256))\n",
    "model.add(Dense(256))\n",
    "model.add(Dropout(0.3))\n",
    "model.add(Dense(n_vocab))\n",
    "model.add(Activation('softmax'))\n",
    "model.compile(loss='categorical_crossentropy', optimizer='rmsprop')\n",
    "# Load the weights to each node\n",
    "model.load_weights('model.h5')"
   ]
  },
  {
   "cell_type": "code",
   "execution_count": 66,
   "metadata": {},
   "outputs": [],
   "source": [
    "start = numpy.random.randint(0, len(network_input)-1)\n",
    "int_to_note = dict((number, note) for number, note in enumerate(pitchnames))\n",
    "pattern = network_input[start]\n",
    "\n",
    "prediction_output = []\n",
    "# generate 500 notes\n",
    "for note_index in range(200):\n",
    "    prediction_input = numpy.reshape(pattern, (1, len(pattern), 1))\n",
    "    prediction_input = prediction_input / float(n_vocab)\n",
    "    prediction = model.predict(prediction_input, verbose=0)\n",
    "    index = numpy.argmax(prediction)\n",
    "    result = int_to_note[index]\n",
    "    prediction_output.append(result)\n",
    "    ind =numpy.asarray([index])\n",
    "    pattern = numpy.append(pattern, ind)\n",
    "    pattern = pattern[1:len(pattern)]"
   ]
  },
  {
   "cell_type": "code",
   "execution_count": 67,
   "metadata": {},
   "outputs": [],
   "source": [
    "offset = 0\n",
    "output_notes = []\n",
    "# create note and chord objects based on the values generated by the model\n",
    "for pattern in prediction_output:\n",
    "    # pattern is a chord\n",
    "    if ('.' in pattern) or pattern.isdigit():\n",
    "        notes_in_chord = pattern.split('.')\n",
    "        notes = []\n",
    "        for current_note in notes_in_chord:\n",
    "            new_note = note.Note(int(current_note))\n",
    "            new_note.storedInstrument = instrument.Piano()\n",
    "            notes.append(new_note)\n",
    "        new_chord = chord.Chord(notes)\n",
    "        new_chord.offset = offset\n",
    "        output_notes.append(new_chord)\n",
    "    # pattern is a note\n",
    "    else:\n",
    "        new_note = note.Note(pattern)\n",
    "        new_note.offset = offset\n",
    "        new_note.storedInstrument = instrument.Piano()\n",
    "        output_notes.append(new_note)\n",
    "    # increase offset each iteration so that notes do not stack\n",
    "    offset += 0.5"
   ]
  },
  {
   "cell_type": "code",
   "execution_count": 68,
   "metadata": {},
   "outputs": [
    {
     "data": {
      "text/plain": [
       "'test_output.mid'"
      ]
     },
     "execution_count": 68,
     "metadata": {},
     "output_type": "execute_result"
    }
   ],
   "source": [
    "midi_stream = stream.Stream(output_notes)\n",
    "midi_stream.write('midi', fp='test_output.mid')"
   ]
  },
  {
   "cell_type": "code",
   "execution_count": 1,
   "metadata": {},
   "outputs": [
    {
     "name": "stdout",
     "output_type": "stream",
     "text": [
      "pygame 2.0.0 (SDL 2.0.12, python 3.7.6)\n",
      "Hello from the pygame community. https://www.pygame.org/contribute.html\n"
     ]
    }
   ],
   "source": [
    "\n",
    "import pygame\n",
    "\n",
    "def play_music(music_file):\n",
    "    \"\"\"\n",
    "    stream music with mixer.music module in blocking manner\n",
    "    this will stream the sound from disk while playing\n",
    "    \"\"\"\n",
    "    clock = pygame.time.Clock()\n",
    "    try:\n",
    "        pygame.mixer.music.load(music_file)\n",
    "        print(\"Music file %s loaded!\" % music_file)\n",
    "    except pygame.error:\n",
    "        print(\"File %s not found! (%s)\" % (music_file, pygame.get_error()))\n",
    "        return\n",
    "    pygame.mixer.music.play()\n",
    "    while pygame.mixer.music.get_busy():\n",
    "        # check if playback has finished\n",
    "        clock.tick(30)\n",
    "# pick a midi music file you have ...\n",
    "# (if not in working folder use full path)\n",
    "\n"
   ]
  },
  {
   "cell_type": "code",
   "execution_count": 5,
   "metadata": {},
   "outputs": [
    {
     "name": "stdout",
     "output_type": "stream",
     "text": [
      "Music file test_output.mid loaded!\n"
     ]
    },
    {
     "name": "stderr",
     "output_type": "stream",
     "text": [
      "ERROR:root:Internal Python error in the inspect module.\n",
      "Below is the traceback from this internal error.\n",
      "\n"
     ]
    },
    {
     "name": "stdout",
     "output_type": "stream",
     "text": [
      "Traceback (most recent call last):\n",
      "  File \"<ipython-input-5-f972e23f3b9b>\", line 9, in <module>\n",
      "    play_music(midi_file)\n",
      "  File \"<ipython-input-1-9024338d1fa5>\", line 18, in play_music\n",
      "    clock.tick(30)\n",
      "KeyboardInterrupt\n",
      "\n",
      "During handling of the above exception, another exception occurred:\n",
      "\n",
      "Traceback (most recent call last):\n",
      "  File \"C:\\ProgramData\\Anaconda3\\lib\\site-packages\\IPython\\core\\interactiveshell.py\", line 3331, in run_code\n",
      "    exec(code_obj, self.user_global_ns, self.user_ns)\n",
      "  File \"<ipython-input-5-f972e23f3b9b>\", line 15, in <module>\n",
      "    raise SystemExit\n",
      "SystemExit\n",
      "\n",
      "During handling of the above exception, another exception occurred:\n",
      "\n",
      "Traceback (most recent call last):\n",
      "  File \"C:\\ProgramData\\Anaconda3\\lib\\site-packages\\IPython\\core\\ultratb.py\", line 1151, in get_records\n",
      "    return _fixed_getinnerframes(etb, number_of_lines_of_context, tb_offset)\n",
      "  File \"C:\\ProgramData\\Anaconda3\\lib\\site-packages\\IPython\\core\\ultratb.py\", line 319, in wrapped\n",
      "    return f(*args, **kwargs)\n",
      "  File \"C:\\ProgramData\\Anaconda3\\lib\\site-packages\\IPython\\core\\ultratb.py\", line 353, in _fixed_getinnerframes\n",
      "    records = fix_frame_records_filenames(inspect.getinnerframes(etb, context))\n",
      "  File \"C:\\ProgramData\\Anaconda3\\lib\\inspect.py\", line 1502, in getinnerframes\n",
      "    frameinfo = (tb.tb_frame,) + getframeinfo(tb, context)\n",
      "AttributeError: 'tuple' object has no attribute 'tb_frame'\n"
     ]
    },
    {
     "ename": "SystemExit",
     "evalue": "",
     "output_type": "error",
     "traceback": [
      "An exception has occurred, use %tb to see the full traceback.\n",
      "\u001b[1;31m---------------------------------------------------------------------------\u001b[0m",
      "\nDuring handling of the above exception, another exception occurred:\n",
      "\u001b[1;31mSystemExit\u001b[0m\n"
     ]
    }
   ],
   "source": [
    "midi_file = 'test_output.mid'\n",
    "freq = 44100    # audio CD quality\n",
    "bitsize = -16   # unsigned 16 bit\n",
    "channels = 2    # 1 is mono, 2 is stereo\n",
    "buffer = 1024    # number of samples\n",
    "pygame.mixer.init(freq, bitsize, channels, buffer)\n",
    "\n",
    "try:\n",
    "    play_music(midi_file)\n",
    "except KeyboardInterrupt:\n",
    "    # if user hits Ctrl/C then exit\n",
    "    # (works only in console mode)\n",
    "    pygame.mixer.music.fadeout(1000)\n",
    "    pygame.mixer.music.stop()\n",
    "    raise SystemExit"
   ]
  },
  {
   "cell_type": "code",
   "execution_count": 69,
   "metadata": {},
   "outputs": [
    {
     "ename": "AttributeError",
     "evalue": "'Score' object has no attribute 'MidiFile'",
     "output_type": "error",
     "traceback": [
      "\u001b[1;31m---------------------------------------------------------------------------\u001b[0m",
      "\u001b[1;31mAttributeError\u001b[0m                            Traceback (most recent call last)",
      "\u001b[1;32m<ipython-input-69-7394dae1b8ca>\u001b[0m in \u001b[0;36m<module>\u001b[1;34m\u001b[0m\n\u001b[0;32m      1\u001b[0m \u001b[1;31m# playing the file\u001b[0m\u001b[1;33m\u001b[0m\u001b[1;33m\u001b[0m\u001b[1;33m\u001b[0m\u001b[0m\n\u001b[1;32m----> 2\u001b[1;33m \u001b[0mmf\u001b[0m \u001b[1;33m=\u001b[0m \u001b[0mmidi\u001b[0m\u001b[1;33m.\u001b[0m\u001b[0mMidiFile\u001b[0m\u001b[1;33m(\u001b[0m\u001b[1;33m)\u001b[0m\u001b[1;33m\u001b[0m\u001b[1;33m\u001b[0m\u001b[0m\n\u001b[0m\u001b[0;32m      3\u001b[0m \u001b[0mmf\u001b[0m\u001b[1;33m.\u001b[0m\u001b[0mopen\u001b[0m\u001b[1;33m(\u001b[0m\u001b[1;34m'test_output.mid'\u001b[0m\u001b[1;33m)\u001b[0m\u001b[1;33m\u001b[0m\u001b[1;33m\u001b[0m\u001b[0m\n\u001b[0;32m      4\u001b[0m \u001b[0mmf\u001b[0m\u001b[1;33m.\u001b[0m\u001b[0mread\u001b[0m\u001b[1;33m(\u001b[0m\u001b[1;33m)\u001b[0m\u001b[1;33m\u001b[0m\u001b[1;33m\u001b[0m\u001b[0m\n\u001b[0;32m      5\u001b[0m \u001b[0mmf\u001b[0m\u001b[1;33m.\u001b[0m\u001b[0mclose\u001b[0m\u001b[1;33m(\u001b[0m\u001b[1;33m)\u001b[0m\u001b[1;33m\u001b[0m\u001b[1;33m\u001b[0m\u001b[0m\n",
      "\u001b[1;31mAttributeError\u001b[0m: 'Score' object has no attribute 'MidiFile'"
     ]
    }
   ],
   "source": [
    "# playing the file\n",
    "mf = midi.MidiFile()\n",
    "mf.open('test_output.mid')\n",
    "mf.read()\n",
    "mf.close()\n",
    "s = midi.translate.midiFileToStream(mf)\n",
    "s.show('midi')"
   ]
  },
  {
   "cell_type": "code",
   "execution_count": null,
   "metadata": {},
   "outputs": [],
   "source": []
  }
 ],
 "metadata": {
  "kernelspec": {
   "display_name": "Python 3",
   "language": "python",
   "name": "python3"
  },
  "language_info": {
   "codemirror_mode": {
    "name": "ipython",
    "version": 3
   },
   "file_extension": ".py",
   "mimetype": "text/x-python",
   "name": "python",
   "nbconvert_exporter": "python",
   "pygments_lexer": "ipython3",
   "version": "3.7.6"
  }
 },
 "nbformat": 4,
 "nbformat_minor": 4
}
